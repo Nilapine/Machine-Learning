{
 "cells": [
  {
   "cell_type": "code",
   "execution_count": 19,
   "metadata": {
    "id": "2DKDpXsb8Tym"
   },
   "outputs": [],
   "source": [
    "import numpy as np\n",
    "import matplotlib.pyplot as plt\n",
    "import pandas as pd"
   ]
  },
  {
   "cell_type": "code",
   "execution_count": 20,
   "metadata": {
    "id": "JPDFYyq7G_RF"
   },
   "outputs": [],
   "source": [
    "dataset = pd.read_csv('dataset-tempe.csv')\n",
    "x = dataset.iloc[:, :-1].values\n",
    "y = dataset.iloc[:, -1].values"
   ]
  },
  {
   "cell_type": "code",
   "execution_count": 21,
   "metadata": {
    "colab": {
     "base_uri": "https://localhost:8080/"
    },
    "id": "kb9GarmBH-8Z",
    "outputId": "53bdf05b-7e65-4283-dcb3-dba26a13bf06"
   },
   "outputs": [
    {
     "name": "stdout",
     "output_type": "stream",
     "text": [
      "[['Orek tempe manis pedas super simple'\n",
      "  'Tempe (saya beli 3000 saja)--3 buah cabe gendot--3 buah cabe keriting--3 buah cabe rawit merah--2 siung bawang merah--1 siung bawang putih--Kecap--Saus tiram--Saus tomat--Kaldu bubuk--Garam--Gula--'\n",
      "  'Potong2 tempe sesuai selera lalu goreng sebentar.--Tumis duo bawang dan semua cabe (cabe bisa sesuai selera ya pedesnya suka segimana) sampai harum. Masukkan tempe, kecap, saus tiram, saus tomat, kaldu bubuk, gulgar, dan tambahkan air satu gelas belimbing. Aduk2 dan tutup wajan.--Saat air sudah menyusut dan kuah kecap mengental. Cek rasa. Klo sudah oke. Matikan api. Sajikan. (Klo aku suka airnya sedikit sekali 😋). Selamat mencoba !--'\n",
      "  7]\n",
      " ['Terik ayam tempe telor'\n",
      "  '4 sayap ayam--4 buah telor--1/2 papan tempe--Bumbu halus:--5 siung bawang merah--4 siung bawang putih--2 butir kemiri--1/2 sdm ketumbar--secukupnya Garam--Bumbu lain:--2 cm lengkuas--1 lembar daun salam--1 batang sereh--secukupnya Gula jawa--Bawang goreng--Minyak untuk menumis--1 bungkus santan kara--secukupnya Air--5 buah cabe rawit--'\n",
      "  'Cuci sayap ayam kemudian sisihkan. Rebus telur dan kupas. Sisihkan. Potong tempe sesuai selera. Sisihkan.--Panaskan minyak langsung di dalam panci. Tumis sereh, daun salam, dan lengkuas. Setelah beberapa saat masukkan bumbu halus. Tumis sampai berbau harum. Kemudian masukkan air dan gula jawa dan cabe rawit. Jika air sudah mendidih, masukkan sayap ayam dan telor. Masukkan tempe belakangan. Tunggu beberapa saat sampai ayam empuk (karena pakai sayap ayam, jadi tidak begitu lama). Jika ayam sudah empuk masukkan santan kara. Tunggu beberapa saat. Sesuaikan rasa. Matikan api, dan taburkan bawang goreng.--Terik siap dinikmati dengan nasi hangat dan kerupun 😁--'\n",
      "  6]\n",
      " ['Penyet Tempe Sambel Korek Kemangi'\n",
      "  '2 buah tempe--1 genggam Daun kemangi--15 cabe rawit--2 siung bawang putih--Gula--Garam--'\n",
      "  'Iris tempe jd beberapa potong, bumbui dg bawang putih dan garam. Goreng sampai kering--Ulek cabe rawit dan 1 siung bawang putih ukuran besar tambah gula garam sesuai selera--Setelah halus tuang minyak goreng panas bekas goreng tempe td--Penyet tempe diatas sambel dan beri daun kemangi--Tempe penyet siap disantap 😋😋😋--'\n",
      "  8]\n",
      " ...\n",
      " ['Oseng tempe Lombok ijo'\n",
      "  '1/4 papan tempe--11 Lombok ijo--1 cabe rawit merah--2 bawang putih--4 bawang merah--1 tomat--1/2 keris pete--Gula Jawa--Garam--Sedikit kecap--'\n",
      "  'Potong tempe menurut selera.cuci tiriskan--Goreng tempe jgn terlalu garing--Iris semua bumbu.kemudian tumis bumbu sampai harum.tambahkan Pete.masukkan gula Jawa.tambahkan sedikit air.--Kalau air tinggal sedikit tambahkan kecap..masukkan tempe.icip rasa.siap dihidangkan--'\n",
      "  7]\n",
      " ['Tahu tempe bumbu kuning'\n",
      "  'Tahu--Tempe--Bumbu:--2 bawang putih--4 bawang merah--3 kemiri--1 jempol kunyit--Garam--Gula--Lengkuas--Daun salam--Santan--'\n",
      "  'Uleg bumbu-bumbu lalu tumis masukan daun salam dan lengkuas--Kasih air, tunggu sampai mendidih lalu masukan tempe dan tahu--Masukan santan sebelum api dimatikan dan koreksi rasa--'\n",
      "  29]\n",
      " ['Keripik tempe'\n",
      "  '500 gram bakal tempe--300 gram tepung tapioka--5 siung bawang putih--4 siung bawang merah--secukupnya Ketumbar--secukupnya Garam--secukupnya Minyak goreng--'\n",
      "  'Langkah pertma remas bakal tempe dengan tapioka hingga menyatu. Masukan dalam pelastik lalu gantung & simpan 1malam.--Besoknya iris iris sesuka hatimu. Giling bumbu pencelup lalu goreng.--Selamat menikmati--'\n",
      "  8]]\n"
     ]
    }
   ],
   "source": [
    "print(x)"
   ]
  },
  {
   "cell_type": "code",
   "execution_count": 22,
   "metadata": {
    "colab": {
     "base_uri": "https://localhost:8080/"
    },
    "id": "fPYNdjZzIR6J",
    "outputId": "9e1491f9-3a2c-4cba-8354-b43b36ebb3a1"
   },
   "outputs": [
    {
     "name": "stdout",
     "output_type": "stream",
     "text": [
      "['/id/resep/4474061-orek-tempe-manis-pedas-super-simple'\n",
      " '/id/resep/4474066-terik-ayam-tempe-telor'\n",
      " '/id/resep/4473809-penyet-tempe-sambel-korek-kemangi' ...\n",
      " '/id/resep/3943987-oseng-tempe-lombok-ijo'\n",
      " '/id/resep/3943872-tahu-tempe-bumbu-kuning'\n",
      " '/id/resep/3942205-keripik-tempe']\n"
     ]
    }
   ],
   "source": [
    "print(y)"
   ]
  },
  {
   "cell_type": "code",
   "execution_count": 23,
   "metadata": {
    "id": "tliVpM6bIgu9"
   },
   "outputs": [
    {
     "ename": "ValueError",
     "evalue": "Cannot use mean strategy with non-numeric data:\ncould not convert string to float: 'Tempe (saya beli 3000 saja)--3 buah cabe gendot--3 buah cabe keriting--3 buah cabe rawit merah--2 siung bawang merah--1 siung bawang putih--Kecap--Saus tiram--Saus tomat--Kaldu bubuk--Garam--Gula--'",
     "output_type": "error",
     "traceback": [
      "\u001b[1;31m---------------------------------------------------------------------------\u001b[0m",
      "\u001b[1;31mValueError\u001b[0m                                Traceback (most recent call last)",
      "Cell \u001b[1;32mIn[23], line 3\u001b[0m\n\u001b[0;32m      1\u001b[0m \u001b[38;5;28;01mfrom\u001b[39;00m \u001b[38;5;21;01msklearn\u001b[39;00m\u001b[38;5;21;01m.\u001b[39;00m\u001b[38;5;21;01mimpute\u001b[39;00m \u001b[38;5;28;01mimport\u001b[39;00m SimpleImputer\n\u001b[0;32m      2\u001b[0m imputer \u001b[38;5;241m=\u001b[39m SimpleImputer(missing_values\u001b[38;5;241m=\u001b[39mnp\u001b[38;5;241m.\u001b[39mnan, strategy\u001b[38;5;241m=\u001b[39m\u001b[38;5;124m'\u001b[39m\u001b[38;5;124mmean\u001b[39m\u001b[38;5;124m'\u001b[39m)\n\u001b[1;32m----> 3\u001b[0m \u001b[43mimputer\u001b[49m\u001b[38;5;241;43m.\u001b[39;49m\u001b[43mfit\u001b[49m\u001b[43m(\u001b[49m\u001b[43mx\u001b[49m\u001b[43m[\u001b[49m\u001b[43m:\u001b[49m\u001b[43m,\u001b[49m\u001b[43m \u001b[49m\u001b[38;5;241;43m1\u001b[39;49m\u001b[43m:\u001b[49m\u001b[38;5;241;43m3\u001b[39;49m\u001b[43m]\u001b[49m\u001b[43m)\u001b[49m\n\u001b[0;32m      4\u001b[0m x[:, \u001b[38;5;241m1\u001b[39m:\u001b[38;5;241m3\u001b[39m] \u001b[38;5;241m=\u001b[39m imputer\u001b[38;5;241m.\u001b[39mtransform(x[:, \u001b[38;5;241m1\u001b[39m:\u001b[38;5;241m3\u001b[39m])\n",
      "File \u001b[1;32m~\\AppData\\Local\\Programs\\Python\\Python312\\Lib\\site-packages\\sklearn\\base.py:1474\u001b[0m, in \u001b[0;36m_fit_context.<locals>.decorator.<locals>.wrapper\u001b[1;34m(estimator, *args, **kwargs)\u001b[0m\n\u001b[0;32m   1467\u001b[0m     estimator\u001b[38;5;241m.\u001b[39m_validate_params()\n\u001b[0;32m   1469\u001b[0m \u001b[38;5;28;01mwith\u001b[39;00m config_context(\n\u001b[0;32m   1470\u001b[0m     skip_parameter_validation\u001b[38;5;241m=\u001b[39m(\n\u001b[0;32m   1471\u001b[0m         prefer_skip_nested_validation \u001b[38;5;129;01mor\u001b[39;00m global_skip_validation\n\u001b[0;32m   1472\u001b[0m     )\n\u001b[0;32m   1473\u001b[0m ):\n\u001b[1;32m-> 1474\u001b[0m     \u001b[38;5;28;01mreturn\u001b[39;00m \u001b[43mfit_method\u001b[49m\u001b[43m(\u001b[49m\u001b[43mestimator\u001b[49m\u001b[43m,\u001b[49m\u001b[43m \u001b[49m\u001b[38;5;241;43m*\u001b[39;49m\u001b[43margs\u001b[49m\u001b[43m,\u001b[49m\u001b[43m \u001b[49m\u001b[38;5;241;43m*\u001b[39;49m\u001b[38;5;241;43m*\u001b[39;49m\u001b[43mkwargs\u001b[49m\u001b[43m)\u001b[49m\n",
      "File \u001b[1;32m~\\AppData\\Local\\Programs\\Python\\Python312\\Lib\\site-packages\\sklearn\\impute\\_base.py:410\u001b[0m, in \u001b[0;36mSimpleImputer.fit\u001b[1;34m(self, X, y)\u001b[0m\n\u001b[0;32m    392\u001b[0m \u001b[38;5;129m@_fit_context\u001b[39m(prefer_skip_nested_validation\u001b[38;5;241m=\u001b[39m\u001b[38;5;28;01mTrue\u001b[39;00m)\n\u001b[0;32m    393\u001b[0m \u001b[38;5;28;01mdef\u001b[39;00m \u001b[38;5;21mfit\u001b[39m(\u001b[38;5;28mself\u001b[39m, X, y\u001b[38;5;241m=\u001b[39m\u001b[38;5;28;01mNone\u001b[39;00m):\n\u001b[0;32m    394\u001b[0m \u001b[38;5;250m    \u001b[39m\u001b[38;5;124;03m\"\"\"Fit the imputer on `X`.\u001b[39;00m\n\u001b[0;32m    395\u001b[0m \n\u001b[0;32m    396\u001b[0m \u001b[38;5;124;03m    Parameters\u001b[39;00m\n\u001b[1;32m   (...)\u001b[0m\n\u001b[0;32m    408\u001b[0m \u001b[38;5;124;03m        Fitted estimator.\u001b[39;00m\n\u001b[0;32m    409\u001b[0m \u001b[38;5;124;03m    \"\"\"\u001b[39;00m\n\u001b[1;32m--> 410\u001b[0m     X \u001b[38;5;241m=\u001b[39m \u001b[38;5;28;43mself\u001b[39;49m\u001b[38;5;241;43m.\u001b[39;49m\u001b[43m_validate_input\u001b[49m\u001b[43m(\u001b[49m\u001b[43mX\u001b[49m\u001b[43m,\u001b[49m\u001b[43m \u001b[49m\u001b[43min_fit\u001b[49m\u001b[38;5;241;43m=\u001b[39;49m\u001b[38;5;28;43;01mTrue\u001b[39;49;00m\u001b[43m)\u001b[49m\n\u001b[0;32m    412\u001b[0m     \u001b[38;5;66;03m# default fill_value is 0 for numerical input and \"missing_value\"\u001b[39;00m\n\u001b[0;32m    413\u001b[0m     \u001b[38;5;66;03m# otherwise\u001b[39;00m\n\u001b[0;32m    414\u001b[0m     \u001b[38;5;28;01mif\u001b[39;00m \u001b[38;5;28mself\u001b[39m\u001b[38;5;241m.\u001b[39mfill_value \u001b[38;5;129;01mis\u001b[39;00m \u001b[38;5;28;01mNone\u001b[39;00m:\n",
      "File \u001b[1;32m~\\AppData\\Local\\Programs\\Python\\Python312\\Lib\\site-packages\\sklearn\\impute\\_base.py:337\u001b[0m, in \u001b[0;36mSimpleImputer._validate_input\u001b[1;34m(self, X, in_fit)\u001b[0m\n\u001b[0;32m    331\u001b[0m \u001b[38;5;28;01mif\u001b[39;00m \u001b[38;5;124m\"\u001b[39m\u001b[38;5;124mcould not convert\u001b[39m\u001b[38;5;124m\"\u001b[39m \u001b[38;5;129;01min\u001b[39;00m \u001b[38;5;28mstr\u001b[39m(ve):\n\u001b[0;32m    332\u001b[0m     new_ve \u001b[38;5;241m=\u001b[39m \u001b[38;5;167;01mValueError\u001b[39;00m(\n\u001b[0;32m    333\u001b[0m         \u001b[38;5;124m\"\u001b[39m\u001b[38;5;124mCannot use \u001b[39m\u001b[38;5;132;01m{}\u001b[39;00m\u001b[38;5;124m strategy with non-numeric data:\u001b[39m\u001b[38;5;130;01m\\n\u001b[39;00m\u001b[38;5;132;01m{}\u001b[39;00m\u001b[38;5;124m\"\u001b[39m\u001b[38;5;241m.\u001b[39mformat(\n\u001b[0;32m    334\u001b[0m             \u001b[38;5;28mself\u001b[39m\u001b[38;5;241m.\u001b[39mstrategy, ve\n\u001b[0;32m    335\u001b[0m         )\n\u001b[0;32m    336\u001b[0m     )\n\u001b[1;32m--> 337\u001b[0m     \u001b[38;5;28;01mraise\u001b[39;00m new_ve \u001b[38;5;28;01mfrom\u001b[39;00m \u001b[38;5;28;01mNone\u001b[39;00m\n\u001b[0;32m    338\u001b[0m \u001b[38;5;28;01melse\u001b[39;00m:\n\u001b[0;32m    339\u001b[0m     \u001b[38;5;28;01mraise\u001b[39;00m ve\n",
      "\u001b[1;31mValueError\u001b[0m: Cannot use mean strategy with non-numeric data:\ncould not convert string to float: 'Tempe (saya beli 3000 saja)--3 buah cabe gendot--3 buah cabe keriting--3 buah cabe rawit merah--2 siung bawang merah--1 siung bawang putih--Kecap--Saus tiram--Saus tomat--Kaldu bubuk--Garam--Gula--'"
     ]
    }
   ],
   "source": [
    "from sklearn.impute import SimpleImputer\n",
    "imputer = SimpleImputer(missing_values=np.nan, strategy='mean')\n",
    "imputer.fit(x[:, 1:3])\n",
    "x[:, 1:3] = imputer.transform(x[:, 1:3])"
   ]
  },
  {
   "cell_type": "code",
   "execution_count": 24,
   "metadata": {
    "colab": {
     "base_uri": "https://localhost:8080/"
    },
    "id": "-dmcXYMLJcDf",
    "outputId": "f93e7292-d61c-49a6-aaf0-06cb535965f7"
   },
   "outputs": [
    {
     "name": "stdout",
     "output_type": "stream",
     "text": [
      "[['Orek tempe manis pedas super simple'\n",
      "  'Tempe (saya beli 3000 saja)--3 buah cabe gendot--3 buah cabe keriting--3 buah cabe rawit merah--2 siung bawang merah--1 siung bawang putih--Kecap--Saus tiram--Saus tomat--Kaldu bubuk--Garam--Gula--'\n",
      "  'Potong2 tempe sesuai selera lalu goreng sebentar.--Tumis duo bawang dan semua cabe (cabe bisa sesuai selera ya pedesnya suka segimana) sampai harum. Masukkan tempe, kecap, saus tiram, saus tomat, kaldu bubuk, gulgar, dan tambahkan air satu gelas belimbing. Aduk2 dan tutup wajan.--Saat air sudah menyusut dan kuah kecap mengental. Cek rasa. Klo sudah oke. Matikan api. Sajikan. (Klo aku suka airnya sedikit sekali 😋). Selamat mencoba !--'\n",
      "  7]\n",
      " ['Terik ayam tempe telor'\n",
      "  '4 sayap ayam--4 buah telor--1/2 papan tempe--Bumbu halus:--5 siung bawang merah--4 siung bawang putih--2 butir kemiri--1/2 sdm ketumbar--secukupnya Garam--Bumbu lain:--2 cm lengkuas--1 lembar daun salam--1 batang sereh--secukupnya Gula jawa--Bawang goreng--Minyak untuk menumis--1 bungkus santan kara--secukupnya Air--5 buah cabe rawit--'\n",
      "  'Cuci sayap ayam kemudian sisihkan. Rebus telur dan kupas. Sisihkan. Potong tempe sesuai selera. Sisihkan.--Panaskan minyak langsung di dalam panci. Tumis sereh, daun salam, dan lengkuas. Setelah beberapa saat masukkan bumbu halus. Tumis sampai berbau harum. Kemudian masukkan air dan gula jawa dan cabe rawit. Jika air sudah mendidih, masukkan sayap ayam dan telor. Masukkan tempe belakangan. Tunggu beberapa saat sampai ayam empuk (karena pakai sayap ayam, jadi tidak begitu lama). Jika ayam sudah empuk masukkan santan kara. Tunggu beberapa saat. Sesuaikan rasa. Matikan api, dan taburkan bawang goreng.--Terik siap dinikmati dengan nasi hangat dan kerupun 😁--'\n",
      "  6]\n",
      " ['Penyet Tempe Sambel Korek Kemangi'\n",
      "  '2 buah tempe--1 genggam Daun kemangi--15 cabe rawit--2 siung bawang putih--Gula--Garam--'\n",
      "  'Iris tempe jd beberapa potong, bumbui dg bawang putih dan garam. Goreng sampai kering--Ulek cabe rawit dan 1 siung bawang putih ukuran besar tambah gula garam sesuai selera--Setelah halus tuang minyak goreng panas bekas goreng tempe td--Penyet tempe diatas sambel dan beri daun kemangi--Tempe penyet siap disantap 😋😋😋--'\n",
      "  8]\n",
      " ...\n",
      " ['Oseng tempe Lombok ijo'\n",
      "  '1/4 papan tempe--11 Lombok ijo--1 cabe rawit merah--2 bawang putih--4 bawang merah--1 tomat--1/2 keris pete--Gula Jawa--Garam--Sedikit kecap--'\n",
      "  'Potong tempe menurut selera.cuci tiriskan--Goreng tempe jgn terlalu garing--Iris semua bumbu.kemudian tumis bumbu sampai harum.tambahkan Pete.masukkan gula Jawa.tambahkan sedikit air.--Kalau air tinggal sedikit tambahkan kecap..masukkan tempe.icip rasa.siap dihidangkan--'\n",
      "  7]\n",
      " ['Tahu tempe bumbu kuning'\n",
      "  'Tahu--Tempe--Bumbu:--2 bawang putih--4 bawang merah--3 kemiri--1 jempol kunyit--Garam--Gula--Lengkuas--Daun salam--Santan--'\n",
      "  'Uleg bumbu-bumbu lalu tumis masukan daun salam dan lengkuas--Kasih air, tunggu sampai mendidih lalu masukan tempe dan tahu--Masukan santan sebelum api dimatikan dan koreksi rasa--'\n",
      "  29]\n",
      " ['Keripik tempe'\n",
      "  '500 gram bakal tempe--300 gram tepung tapioka--5 siung bawang putih--4 siung bawang merah--secukupnya Ketumbar--secukupnya Garam--secukupnya Minyak goreng--'\n",
      "  'Langkah pertma remas bakal tempe dengan tapioka hingga menyatu. Masukan dalam pelastik lalu gantung & simpan 1malam.--Besoknya iris iris sesuka hatimu. Giling bumbu pencelup lalu goreng.--Selamat menikmati--'\n",
      "  8]]\n"
     ]
    }
   ],
   "source": [
    "print(x)"
   ]
  },
  {
   "cell_type": "code",
   "execution_count": 7,
   "metadata": {
    "id": "PTFBpzBBJt65"
   },
   "outputs": [],
   "source": [
    "from sklearn.compose import ColumnTransformer\n",
    "from sklearn.preprocessing import OneHotEncoder\n",
    "ct = ColumnTransformer(transformers=[('encoder', OneHotEncoder(), [0])], remainder='passthrough')\n",
    "x = np.array(ct.fit_transform(x))"
   ]
  },
  {
   "cell_type": "code",
   "execution_count": 8,
   "metadata": {
    "colab": {
     "base_uri": "https://localhost:8080/"
    },
    "id": "P_9GQ4P3KuNV",
    "outputId": "c0e1c282-d5fa-4750-f34b-1a9a41c1f7b8"
   },
   "outputs": [
    {
     "name": "stdout",
     "output_type": "stream",
     "text": [
      "[[1.0 0.0 0.0 44.0 72000.0]\n",
      " [0.0 0.0 1.0 27.0 48000.0]\n",
      " [0.0 1.0 0.0 30.0 54000.0]\n",
      " [0.0 0.0 1.0 38.0 61000.0]\n",
      " [0.0 1.0 0.0 40.0 63777.77777777778]\n",
      " [1.0 0.0 0.0 35.0 58000.0]\n",
      " [0.0 0.0 1.0 38.77777777777778 52000.0]\n",
      " [1.0 0.0 0.0 48.0 79000.0]\n",
      " [0.0 1.0 0.0 50.0 83000.0]\n",
      " [1.0 0.0 0.0 37.0 67000.0]]\n"
     ]
    }
   ],
   "source": [
    "print(x)"
   ]
  },
  {
   "cell_type": "code",
   "execution_count": 9,
   "metadata": {
    "id": "c73-6zWjLBgo"
   },
   "outputs": [],
   "source": [
    "from sklearn.preprocessing import LabelEncoder\n",
    "le = LabelEncoder()\n",
    "y = le.fit_transform(y)"
   ]
  },
  {
   "cell_type": "code",
   "execution_count": 10,
   "metadata": {
    "colab": {
     "base_uri": "https://localhost:8080/"
    },
    "id": "Go3MqGP-LS5P",
    "outputId": "92ba5c9f-b17d-4465-d95a-00cd1ff6a6d1"
   },
   "outputs": [
    {
     "name": "stdout",
     "output_type": "stream",
     "text": [
      "[0 1 0 0 1 1 0 1 0 1]\n"
     ]
    }
   ],
   "source": [
    "print(y)"
   ]
  },
  {
   "cell_type": "code",
   "execution_count": 11,
   "metadata": {
    "id": "-fBBg0UWLryt"
   },
   "outputs": [],
   "source": [
    "from sklearn.model_selection import train_test_split\n",
    "x_train, x_test, y_train, y_test = train_test_split(x, y, test_size=0.2, random_state=1)"
   ]
  },
  {
   "cell_type": "code",
   "execution_count": 12,
   "metadata": {
    "colab": {
     "base_uri": "https://localhost:8080/"
    },
    "id": "h4nkKTl6MXuJ",
    "outputId": "587920af-df0d-4ac3-ab40-188dde69d41f"
   },
   "outputs": [
    {
     "name": "stdout",
     "output_type": "stream",
     "text": [
      "[[0.0 0.0 1.0 38.77777777777778 52000.0]\n",
      " [0.0 1.0 0.0 40.0 63777.77777777778]\n",
      " [1.0 0.0 0.0 44.0 72000.0]\n",
      " [0.0 0.0 1.0 38.0 61000.0]\n",
      " [0.0 0.0 1.0 27.0 48000.0]\n",
      " [1.0 0.0 0.0 48.0 79000.0]\n",
      " [0.0 1.0 0.0 50.0 83000.0]\n",
      " [1.0 0.0 0.0 35.0 58000.0]]\n"
     ]
    }
   ],
   "source": [
    "print(x_train)"
   ]
  },
  {
   "cell_type": "code",
   "execution_count": 13,
   "metadata": {
    "colab": {
     "base_uri": "https://localhost:8080/"
    },
    "id": "oVehWU-sMoX7",
    "outputId": "35e78fd9-de3f-468d-e9ff-8809e7d78193"
   },
   "outputs": [
    {
     "name": "stdout",
     "output_type": "stream",
     "text": [
      "[[0.0 1.0 0.0 30.0 54000.0]\n",
      " [1.0 0.0 0.0 37.0 67000.0]]\n"
     ]
    }
   ],
   "source": [
    "print(x_test)"
   ]
  },
  {
   "cell_type": "code",
   "execution_count": 14,
   "metadata": {
    "colab": {
     "base_uri": "https://localhost:8080/"
    },
    "id": "HOqPlt8xMwaD",
    "outputId": "7928f5a3-7c4e-494a-cf22-3369a11a03d6"
   },
   "outputs": [
    {
     "name": "stdout",
     "output_type": "stream",
     "text": [
      "[0 1 0 0 1 1 0 1]\n"
     ]
    }
   ],
   "source": [
    "print(y_train)"
   ]
  },
  {
   "cell_type": "code",
   "execution_count": 15,
   "metadata": {
    "colab": {
     "base_uri": "https://localhost:8080/"
    },
    "id": "KjwFgNXiM15F",
    "outputId": "ad8a2ea2-691c-43ac-dc46-c18cb676bcfb"
   },
   "outputs": [
    {
     "name": "stdout",
     "output_type": "stream",
     "text": [
      "[0 1]\n"
     ]
    }
   ],
   "source": [
    "print(y_test)"
   ]
  },
  {
   "cell_type": "code",
   "execution_count": 16,
   "metadata": {
    "id": "8wPE4Hb5NLhP"
   },
   "outputs": [],
   "source": [
    "from sklearn.preprocessing import StandardScaler\n",
    "sc = StandardScaler()\n",
    "x_train[:, 3:] = sc.fit_transform(x_train[:, 3:])\n",
    "x_test[:, 3:] = sc.transform(x_test[:, 3:])"
   ]
  },
  {
   "cell_type": "code",
   "execution_count": 17,
   "metadata": {
    "colab": {
     "base_uri": "https://localhost:8080/"
    },
    "id": "dJVHGwyZOC6U",
    "outputId": "b3d5f321-2dfa-4d29-d03c-8be37ffc84bc"
   },
   "outputs": [
    {
     "name": "stdout",
     "output_type": "stream",
     "text": [
      "[[0.0 0.0 1.0 -0.19159184384578545 -1.0781259408412425]\n",
      " [0.0 1.0 0.0 -0.014117293757057777 -0.07013167641635372]\n",
      " [1.0 0.0 0.0 0.566708506533324 0.633562432710455]\n",
      " [0.0 0.0 1.0 -0.30453019390224867 -0.30786617274297867]\n",
      " [0.0 0.0 1.0 -1.9018011447007988 -1.420463615551582]\n",
      " [1.0 0.0 0.0 1.1475343068237058 1.232653363453549]\n",
      " [0.0 1.0 0.0 1.4379472069688968 1.5749910381638885]\n",
      " [1.0 0.0 0.0 -0.7401495441200351 -0.5646194287757332]]\n"
     ]
    }
   ],
   "source": [
    "print(x_train)"
   ]
  },
  {
   "cell_type": "code",
   "execution_count": 18,
   "metadata": {
    "colab": {
     "base_uri": "https://localhost:8080/"
    },
    "id": "uVN7n0clOOTM",
    "outputId": "f5096fa3-767b-47dc-e862-fefdcae0c284"
   },
   "outputs": [
    {
     "name": "stdout",
     "output_type": "stream",
     "text": [
      "[[0.0 1.0 0.0 -1.4661817944830124 -0.9069571034860727]\n",
      " [1.0 0.0 0.0 -0.44973664397484414 0.2056403393225306]]\n"
     ]
    }
   ],
   "source": [
    "print(x_test)"
   ]
  },
  {
   "cell_type": "code",
   "execution_count": null,
   "metadata": {},
   "outputs": [],
   "source": []
  }
 ],
 "metadata": {
  "colab": {
   "collapsed_sections": [],
   "name": "Preprocessing_Data.ipynb",
   "provenance": []
  },
  "kernelspec": {
   "display_name": "Python 3 (ipykernel)",
   "language": "python",
   "name": "python3"
  },
  "language_info": {
   "codemirror_mode": {
    "name": "ipython",
    "version": 3
   },
   "file_extension": ".py",
   "mimetype": "text/x-python",
   "name": "python",
   "nbconvert_exporter": "python",
   "pygments_lexer": "ipython3",
   "version": "3.12.2"
  }
 },
 "nbformat": 4,
 "nbformat_minor": 4
}
