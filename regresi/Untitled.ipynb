{
 "cells": [
  {
   "cell_type": "markdown",
   "id": "f49006c8-c30d-4c5b-9f18-2d36529271a1",
   "metadata": {},
   "source": [
    "# REGRESI LINEAR"
   ]
  },
  {
   "cell_type": "markdown",
   "id": "331feea6-12d9-491f-85a3-555884fcce53",
   "metadata": {},
   "source": [
    "Regresi Linear: adalah metode yang digunakan untuk memodelkan hubungan antara variabel dependen (y), dan variabel independen (x). Secara matematis, regresi didasarkan pada persamaan dasar garis sebagai berikut:\n",
    "\n",
    "y = a + bx\n",
    "\n",
    "Di mana:\n",
    "\n",
    "y = variabel dependen atau nilai yang akan diprediksi\n",
    "b = kemiringan garis\n",
    "x = variabel bebas\n",
    "a = perpotongan y\n",
    "tujuan utamanya adalah menemukan garis paling pas yang meminimalkan jumlah kesalahan kuadrat antara nilai sebenarnya dari harga saham (y) dan harga saham yang diprediksi di semua titik dataset.\n",
    "\n",
    "Ada banyak jenis regresi linier, yang paling sederhana hanya satu variabel bebas (x) dan jika ada lebih dari satu variabel bebas, itu termasuk dalam kategori regresi linier berganda. Dalam latihan ini hanya akan ada satu variabel independen yang merupakan \"terbuka\" dari harga saham dan kami mencoba untuk memprediksi harga penutupan. Ide utama dari latihan ini adalah menggunakan regresi linier untuk memprediksi harga saham sehingga kita tidak melihat menggunakan semua dataset tetapi hanya informasi dari satu perusahaan."
   ]
  },
  {
   "cell_type": "code",
   "execution_count": 2,
   "id": "c6be274d-cff7-4a52-8a71-75fcfc911730",
   "metadata": {},
   "outputs": [],
   "source": [
    "import pandas as pd \n",
    "pd.set_option('display.max_columns', None)\n",
    "import numpy as np \n",
    "import matplotlib.pyplot as plt\n",
    "import seaborn as sns\n",
    "import math\n",
    "from sklearn.metrics import r2_score, mean_squared_error, mean_absolute_error"
   ]
  },
  {
   "cell_type": "markdown",
   "id": "6f76b1c6-2639-4eff-bf95-6e18ef821d9d",
   "metadata": {},
   "source": [
    "Sebelumnya kita telah memiliki data Revenue bisnis penjualan es krim dan temperatur suhu udara (Celcius)"
   ]
  },
  {
   "cell_type": "code",
   "execution_count": 4,
   "id": "ffa916ae-b59f-4513-98f7-2fa8ec37b08f",
   "metadata": {},
   "outputs": [
    {
     "data": {
      "text/html": [
       "<div>\n",
       "<style scoped>\n",
       "    .dataframe tbody tr th:only-of-type {\n",
       "        vertical-align: middle;\n",
       "    }\n",
       "\n",
       "    .dataframe tbody tr th {\n",
       "        vertical-align: top;\n",
       "    }\n",
       "\n",
       "    .dataframe thead th {\n",
       "        text-align: right;\n",
       "    }\n",
       "</style>\n",
       "<table border=\"1\" class=\"dataframe\">\n",
       "  <thead>\n",
       "    <tr style=\"text-align: right;\">\n",
       "      <th></th>\n",
       "      <th>Temperature</th>\n",
       "      <th>Revenue</th>\n",
       "    </tr>\n",
       "  </thead>\n",
       "  <tbody>\n",
       "    <tr>\n",
       "      <th>0</th>\n",
       "      <td>24.566884</td>\n",
       "      <td>534.799028</td>\n",
       "    </tr>\n",
       "    <tr>\n",
       "      <th>1</th>\n",
       "      <td>26.005191</td>\n",
       "      <td>625.190122</td>\n",
       "    </tr>\n",
       "    <tr>\n",
       "      <th>2</th>\n",
       "      <td>27.790554</td>\n",
       "      <td>660.632289</td>\n",
       "    </tr>\n",
       "    <tr>\n",
       "      <th>3</th>\n",
       "      <td>20.595335</td>\n",
       "      <td>487.706960</td>\n",
       "    </tr>\n",
       "    <tr>\n",
       "      <th>4</th>\n",
       "      <td>11.503498</td>\n",
       "      <td>316.240194</td>\n",
       "    </tr>\n",
       "  </tbody>\n",
       "</table>\n",
       "</div>"
      ],
      "text/plain": [
       "   Temperature     Revenue\n",
       "0    24.566884  534.799028\n",
       "1    26.005191  625.190122\n",
       "2    27.790554  660.632289\n",
       "3    20.595335  487.706960\n",
       "4    11.503498  316.240194"
      ]
     },
     "execution_count": 4,
     "metadata": {},
     "output_type": "execute_result"
    }
   ],
   "source": [
    "df = pd.read_csv('IceCreamData.csv') \n",
    "df.head() \n"
   ]
  },
  {
   "cell_type": "markdown",
   "id": "038e1e37-f5ef-4bff-97b3-0e1b33794fef",
   "metadata": {},
   "source": [
    "Rumusan Masalah :\n",
    "1. Berapa estimasi Revenue yang akan didapat oleh penjual es krim ketika berjualan di suhu 35 C\n",
    "2. Berapakah Correlation Coefficient, dan Coefficient of Determination (R2)?\n",
    "3. Hitung Metric Regresi berikut: Mean Absolute Error, Mean Square Error, dan Root Mean Square Error"
   ]
  },
  {
   "cell_type": "markdown",
   "id": "868302b5-0652-46dc-8b2a-6f6d85efbb17",
   "metadata": {},
   "source": [
    "Untuk menyelesaikan masalah tersebut, langkah pertama kita membutuhkan variabel x dan y untuk mengetahui titik yang diperlukan. Variabel x menanda"
   ]
  },
  {
   "cell_type": "code",
   "execution_count": 7,
   "id": "882d0fa6-7f4c-454b-a698-a1b530ae979b",
   "metadata": {},
   "outputs": [],
   "source": [
    "# variable yang digunakan\n",
    "x = df['Temperature']\n",
    "y = df['Revenue']\n"
   ]
  },
  {
   "cell_type": "code",
   "execution_count": null,
   "id": "da2695df-98ab-4c2a-b144-944290e8eff2",
   "metadata": {},
   "outputs": [],
   "source": []
  }
 ],
 "metadata": {
  "kernelspec": {
   "display_name": "Python 3 (ipykernel)",
   "language": "python",
   "name": "python3"
  },
  "language_info": {
   "codemirror_mode": {
    "name": "ipython",
    "version": 3
   },
   "file_extension": ".py",
   "mimetype": "text/x-python",
   "name": "python",
   "nbconvert_exporter": "python",
   "pygments_lexer": "ipython3",
   "version": "3.12.2"
  }
 },
 "nbformat": 4,
 "nbformat_minor": 5
}
